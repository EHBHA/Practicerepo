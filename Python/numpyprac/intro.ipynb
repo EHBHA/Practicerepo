{
 "cells": [
  {
   "cell_type": "code",
   "execution_count": null,
   "metadata": {},
   "outputs": [
    {
     "name": "stdout",
     "output_type": "stream",
     "text": [
      "[[1 4]\n",
      " [2 5]\n",
      " [3 6]]\n"
     ]
    }
   ],
   "source": [
    "import numpy as np\n",
    "\n",
    "a = np.array([1,2,3,4])\n",
    "a = np.array([[1,2,3],[4,5,6]])\n",
    "# print(a.shape)\n",
    "# print(a.shape)\n",
    "\n",
    "print(a.transpose())"
   ]
  },
  {
   "cell_type": "code",
   "execution_count": 21,
   "metadata": {},
   "outputs": [
    {
     "data": {
      "text/plain": [
       "array([[ True,  True,  True],\n",
       "       [ True,  True,  True],\n",
       "       [ True,  True,  True]])"
      ]
     },
     "execution_count": 21,
     "metadata": {},
     "output_type": "execute_result"
    }
   ],
   "source": [
    "b = np.empty((4,4), dtype=int)\n",
    "b = np.ones(4)\n",
    "b = np.ones((4,4), dtype=int)\n",
    "b = np.ones((3,3), dtype=str)\n",
    "# b = np.zeros((3,3), dtype=str)\n",
    "b = np.ones((3,3), dtype=bool)\n",
    "# b = np.zeros((3,3), dtype=bool)\n",
    "# print(b)\n",
    "b"
   ]
  },
  {
   "cell_type": "code",
   "execution_count": 56,
   "metadata": {},
   "outputs": [
    {
     "name": "stdout",
     "output_type": "stream",
     "text": [
      "original [3 2 3 4 5]\n",
      "copy [1 2 3 4 5]\n",
      "view [3 2 3 4 5]\n"
     ]
    }
   ],
   "source": [
    "c = np.array([1,2,3,4,5])\n",
    "cd = c.copy() # the copy will not be affected by the changes made to the original array\n",
    "c[0] = 3\n",
    "\n",
    "dc = c.view() # the view will be affected by the changes made to the original array\n",
    "print(\"original\",c)\n",
    "print(\"copy\", cd)\n",
    "print(\"view\", dc)"
   ]
  },
  {
   "cell_type": "code",
   "execution_count": 69,
   "metadata": {},
   "outputs": [
    {
     "name": "stdout",
     "output_type": "stream",
     "text": [
      "[[ 1  2  3  4  5]\n",
      " [ 6  7  8  9 10]]\n",
      "(0, 0) 1\n",
      "(0, 1) 2\n",
      "(0, 2) 3\n",
      "(0, 3) 4\n",
      "(0, 4) 5\n",
      "(1, 0) 6\n",
      "(1, 1) 7\n",
      "(1, 2) 8\n",
      "(1, 3) 9\n",
      "(1, 4) 10\n"
     ]
    }
   ],
   "source": [
    "# # d = np.arange(1, 21)\n",
    "# d = np.arange(2, 20, 2)\n",
    "d = np.array([1,2,3,4,5,6,7,8,9,10])\n",
    "d = d.reshape((2, 5))\n",
    "print(d)\n",
    "# for x in d:\n",
    "#     for y in x:\n",
    "#         print(y, end=\" \")\n",
    "\n",
    "# for x in np.nditer(d):\n",
    "#     print(x, end=\" \")\n",
    "\n",
    "# for x in np.nditer(d[:, ::3]):\n",
    "#   print(x)\n",
    "\n",
    "for idx, x in np.ndenumerate(d):\n",
    "  print(idx, x)\n"
   ]
  },
  {
   "cell_type": "code",
   "execution_count": 86,
   "metadata": {},
   "outputs": [
    {
     "name": "stdout",
     "output_type": "stream",
     "text": [
      "[ 1  2  3  4  5  6  7  8  9 10]\n",
      "[[ 1  6]\n",
      " [ 2  7]\n",
      " [ 3  8]\n",
      " [ 4  9]\n",
      " [ 5 10]]\n"
     ]
    }
   ],
   "source": [
    "e = np.array([1,2,3,4,5])\n",
    "ed = np.array([6,7,8,9, 10])\n",
    "de = np.concatenate((e, ed))\n",
    "print(de)\n",
    "# e = np.array([[1,2], [3,4]])\n",
    "# ed = np.array([[5,6],[7,8]])\n",
    "# de = np.concatenate((e, ed), axis=1)\n",
    "# print(de)\n",
    "\n",
    "de = np.stack((e,ed), axis=1)\n",
    "print(de)\n"
   ]
  },
  {
   "cell_type": "code",
   "execution_count": 98,
   "metadata": {},
   "outputs": [
    {
     "name": "stdout",
     "output_type": "stream",
     "text": [
      "[1 2 3]\n",
      "[4 5 6]\n"
     ]
    }
   ],
   "source": [
    "f = np.array([1,2,3,4,5,6])\n",
    "fe = np.array_split(f, 2)\n",
    "print(fe[0])\n",
    "print(fe[1])"
   ]
  }
 ],
 "metadata": {
  "kernelspec": {
   "display_name": "Python 3",
   "language": "python",
   "name": "python3"
  },
  "language_info": {
   "codemirror_mode": {
    "name": "ipython",
    "version": 3
   },
   "file_extension": ".py",
   "mimetype": "text/x-python",
   "name": "python",
   "nbconvert_exporter": "python",
   "pygments_lexer": "ipython3",
   "version": "3.12.1"
  }
 },
 "nbformat": 4,
 "nbformat_minor": 2
}
