{
 "cells": [
  {
   "cell_type": "code",
   "execution_count": 57,
   "metadata": {},
   "outputs": [],
   "source": [
    "import numpy as np\n",
    "from numpy import random"
   ]
  },
  {
   "cell_type": "code",
   "execution_count": null,
   "metadata": {},
   "outputs": [
    {
     "name": "stdout",
     "output_type": "stream",
     "text": [
      "[[1 4]\n",
      " [2 5]\n",
      " [3 6]]\n"
     ]
    }
   ],
   "source": [
    "\n",
    "\n",
    "a = np.array([1,2,3,4])\n",
    "a = np.array([[1,2,3],[4,5,6]])\n",
    "# print(a.shape)\n",
    "# print(a.shape)\n",
    "\n",
    "print(a.transpose())"
   ]
  },
  {
   "cell_type": "code",
   "execution_count": 21,
   "metadata": {},
   "outputs": [
    {
     "data": {
      "text/plain": [
       "array([[ True,  True,  True],\n",
       "       [ True,  True,  True],\n",
       "       [ True,  True,  True]])"
      ]
     },
     "execution_count": 21,
     "metadata": {},
     "output_type": "execute_result"
    }
   ],
   "source": [
    "b = np.empty((4,4), dtype=int)\n",
    "b = np.ones(4)\n",
    "b = np.ones((4,4), dtype=int)\n",
    "b = np.ones((3,3), dtype=str)\n",
    "# b = np.zeros((3,3), dtype=str)\n",
    "b = np.ones((3,3), dtype=bool)\n",
    "# b = np.zeros((3,3), dtype=bool)\n",
    "# print(b)\n",
    "b"
   ]
  },
  {
   "cell_type": "code",
   "execution_count": 56,
   "metadata": {},
   "outputs": [
    {
     "name": "stdout",
     "output_type": "stream",
     "text": [
      "original [3 2 3 4 5]\n",
      "copy [1 2 3 4 5]\n",
      "view [3 2 3 4 5]\n"
     ]
    }
   ],
   "source": [
    "c = np.array([1,2,3,4,5])\n",
    "cd = c.copy() # the copy will not be affected by the changes made to the original array\n",
    "c[0] = 3\n",
    "\n",
    "dc = c.view() # the view will be affected by the changes made to the original array\n",
    "print(\"original\",c)\n",
    "print(\"copy\", cd)\n",
    "print(\"view\", dc)"
   ]
  },
  {
   "cell_type": "code",
   "execution_count": null,
   "metadata": {},
   "outputs": [
    {
     "name": "stdout",
     "output_type": "stream",
     "text": [
      "[[1 2 3]\n",
      " [4 5 6]\n",
      " [7 8 9]]\n",
      "(0, 0) 1\n",
      "(0, 1) 2\n",
      "(0, 2) 3\n",
      "(1, 0) 4\n",
      "(1, 1) 5\n",
      "(1, 2) 6\n",
      "(2, 0) 7\n",
      "(2, 1) 8\n",
      "(2, 2) 9\n"
     ]
    }
   ],
   "source": [
    "# # d = np.arange(1, 21)\n",
    "# d = np.arange(2, 20, 2)\n",
    "d = np.array([1,2,3,4,5,6,7,8,9])\n",
    "d = d.reshape((3, 3)) # change the dimensions of the array\n",
    "print(d)\n",
    "# for x in d:\n",
    "#     for y in x:\n",
    "#         print(y, end=\" \")\n",
    "\n",
    "# for x in np.nditer(d):\n",
    "#     print(x, end=\" \")\n",
    "\n",
    "# for x in np.nditer(d[:, ::3]):\n",
    "#   print(x)\n",
    "\n",
    "for idx, x in np.ndenumerate(d):\n",
    "  print(idx, x)\n"
   ]
  },
  {
   "cell_type": "code",
   "execution_count": null,
   "metadata": {},
   "outputs": [
    {
     "data": {
      "text/plain": [
       "array([1, 2, 3, 4, 5, 6, 7, 8, 9])"
      ]
     },
     "execution_count": 17,
     "metadata": {},
     "output_type": "execute_result"
    }
   ],
   "source": [
    "a = np.array([[[1,2,3],[4,5,6],[7,8,9]]])\n",
    "b = a.reshape(-1)  # flattening the array\n",
    "b"
   ]
  },
  {
   "cell_type": "code",
   "execution_count": 24,
   "metadata": {},
   "outputs": [
    {
     "name": "stdout",
     "output_type": "stream",
     "text": [
      "[[1 2]\n",
      " [3 4]\n",
      " [5 6]\n",
      " [7 8]]\n"
     ]
    }
   ],
   "source": [
    "# e = np.array([1,2,3,4,5])\n",
    "# ed = np.array([6,7,8,9,10])\n",
    "# de = np.concatenate((e, ed))\n",
    "# print(\"concatenate \",de)\n",
    "e = np.array([[1,2], [3,4]])\n",
    "ed = np.array([[5,6],[7,8]])\n",
    "de = np.concatenate((e, ed))\n",
    "print(de)\n",
    "\n"
   ]
  },
  {
   "cell_type": "code",
   "execution_count": null,
   "metadata": {},
   "outputs": [],
   "source": [
    "# e = np.array([1,2,3,4,5])\n",
    "# ed = np.array([6,7,8,9,10])\n",
    "e = np.array([[1,2], [3,4]])\n",
    "ed = np.array([[5,6],[7,8]])\n",
    "\n",
    "de = np.stack((e,ed), axis=1)\n",
    "print(\"stack \", de)"
   ]
  },
  {
   "cell_type": "code",
   "execution_count": 27,
   "metadata": {},
   "outputs": [
    {
     "name": "stdout",
     "output_type": "stream",
     "text": [
      "[[1 2 5 6]\n",
      " [3 4 7 8]]\n"
     ]
    }
   ],
   "source": [
    "# e = np.array([1,2,3,4,5])\n",
    "# ed = np.array([6,7,8,9,10])\n",
    "e = np.array([[1,2], [3,4]])\n",
    "ed = np.array([[5,6],[7,8]])\n",
    "de = np.hstack((e,ed))\n",
    "print(de)\n"
   ]
  },
  {
   "cell_type": "code",
   "execution_count": 28,
   "metadata": {},
   "outputs": [
    {
     "name": "stdout",
     "output_type": "stream",
     "text": [
      "[[[1 5]\n",
      "  [2 6]]\n",
      "\n",
      " [[3 7]\n",
      "  [4 8]]]\n"
     ]
    }
   ],
   "source": [
    "e = np.array([1,2,3,4,5])\n",
    "ed = np.array([6,7,8,9,10])\n",
    "e = np.array([[1,2], [3,4]])\n",
    "ed = np.array([[5,6],[7,8]])\n",
    "de = np.dstack((e,ed))\n",
    "print(de)\n"
   ]
  },
  {
   "cell_type": "code",
   "execution_count": 31,
   "metadata": {},
   "outputs": [
    {
     "name": "stdout",
     "output_type": "stream",
     "text": [
      "[[ 1  6]\n",
      " [ 2  7]\n",
      " [ 3  8]\n",
      " [ 4  9]\n",
      " [ 5 10]]\n"
     ]
    }
   ],
   "source": [
    "e = np.array([1,2,3,4,5])\n",
    "ed = np.array([6,7,8,9,10])\n",
    "# e = np.array([[1,2], [3,4]])\n",
    "# ed = np.array([[5,6],[7,8]])\n",
    "de = np.column_stack((e,ed))\n",
    "print(de)\n"
   ]
  },
  {
   "cell_type": "code",
   "execution_count": 32,
   "metadata": {},
   "outputs": [
    {
     "name": "stdout",
     "output_type": "stream",
     "text": [
      "[[1 2 3]]\n",
      "[[4 5 6]]\n",
      "[]\n"
     ]
    }
   ],
   "source": [
    "f = np.array([1,2,3,4,5,6])\n",
    "f = np.array([[1,2,3],[4,5,6]])\n",
    "fe = np.array_split(f, 3)\n",
    "for x in fe:\n",
    "    print(x)"
   ]
  },
  {
   "cell_type": "code",
   "execution_count": 4,
   "metadata": {},
   "outputs": [
    {
     "name": "stdout",
     "output_type": "stream",
     "text": [
      "[ 1  2  3  4  5  6 19 23 45]\n"
     ]
    }
   ],
   "source": [
    "f = np.array([1,2,19,45,23,3,4,5,6])\n",
    "f.sort()\n",
    "print(f)"
   ]
  },
  {
   "cell_type": "code",
   "execution_count": 5,
   "metadata": {},
   "outputs": [
    {
     "name": "stdout",
     "output_type": "stream",
     "text": [
      "['ab' 'cd' 'kj' 'we']\n"
     ]
    }
   ],
   "source": [
    "f = np.array([\"we\",\"kj\",\"ab\",\"cd\"])\n",
    "f.sort()\n",
    "print(f)"
   ]
  },
  {
   "cell_type": "code",
   "execution_count": 8,
   "metadata": {},
   "outputs": [
    {
     "name": "stdout",
     "output_type": "stream",
     "text": [
      "[[14 34 50]\n",
      " [ 2  3 13]\n",
      " [ 5  6 49]]\n"
     ]
    }
   ],
   "source": [
    "f = np.array([[14,50,34],[13,2,3],[49,5,6]])\n",
    "f.sort()\n",
    "print(f)"
   ]
  },
  {
   "cell_type": "code",
   "execution_count": null,
   "metadata": {},
   "outputs": [
    {
     "name": "stdout",
     "output_type": "stream",
     "text": [
      "2\n",
      "vertical  [13  2  6]\n",
      "horizontal  [14  2  5]\n"
     ]
    }
   ],
   "source": [
    "f = np.array([[14,50,34],[13,2,8],[49,5,6]])\n",
    "print(f.min())\n",
    "print(\"vertical \",f.min(axis=0)) # shows the min element from each column\n",
    "print(\"horizontal \",f.min(axis=1)) # shows the min element from each row"
   ]
  },
  {
   "cell_type": "code",
   "execution_count": null,
   "metadata": {},
   "outputs": [
    {
     "name": "stdout",
     "output_type": "stream",
     "text": [
      "[3 4]\n"
     ]
    }
   ],
   "source": [
    "f = np.array([1,2,4,3,5,6])\n",
    "g = np.array([23,4,3,56,78])\n",
    "fg = np.intersect1d(f,g)  # resultant array will be sorted\n",
    "print(fg)"
   ]
  },
  {
   "cell_type": "code",
   "execution_count": 21,
   "metadata": {},
   "outputs": [
    {
     "name": "stdout",
     "output_type": "stream",
     "text": [
      "[ 2  5  6  8 13]\n"
     ]
    }
   ],
   "source": [
    "f = np.array([[14,50,34],[13,2,8],[49,5,6]])\n",
    "g = np.array([[4,0,4],[13,2,8],[9,5,6]])\n",
    "fg = np.intersect1d(f,g)  # resultant array will be sorted\n",
    "print(fg)"
   ]
  },
  {
   "cell_type": "code",
   "execution_count": 24,
   "metadata": {},
   "outputs": [
    {
     "name": "stdout",
     "output_type": "stream",
     "text": [
      "[1 2 5 6]\n"
     ]
    }
   ],
   "source": [
    "f = np.array([1,2,4,3,5,6])\n",
    "g = np.array([23,4,3,56,78])\n",
    "fg = np.setdiff1d(f,g)\n",
    "print(fg)"
   ]
  },
  {
   "cell_type": "code",
   "execution_count": 50,
   "metadata": {},
   "outputs": [
    {
     "name": "stdout",
     "output_type": "stream",
     "text": [
      "42\n"
     ]
    }
   ],
   "source": [
    "f = np.array([1,2,4,3,5,6])\n",
    "g = np.array([1,2,3,4,5,6])\n",
    "fgg = np.concatenate((f,g))\n",
    "fg = np.sum(fgg, axis=0)\n",
    "print(fg)"
   ]
  },
  {
   "cell_type": "code",
   "execution_count": null,
   "metadata": {},
   "outputs": [
    {
     "name": "stdout",
     "output_type": "stream",
     "text": [
      "[11 12 14 13 15 16]\n"
     ]
    }
   ],
   "source": [
    "f = np.array([1,2,4,3,5,6])\n",
    "f = f + 10  # scalar operation\n",
    "print(f)"
   ]
  },
  {
   "cell_type": "code",
   "execution_count": 52,
   "metadata": {},
   "outputs": [
    {
     "name": "stdout",
     "output_type": "stream",
     "text": [
      "3.5\n"
     ]
    }
   ],
   "source": [
    "f = np.array([1,2,4,3,5,6])\n",
    "fg = np.mean(f)\n",
    "print(fg)"
   ]
  },
  {
   "cell_type": "code",
   "execution_count": 54,
   "metadata": {},
   "outputs": [
    {
     "name": "stdout",
     "output_type": "stream",
     "text": [
      "4.5\n"
     ]
    }
   ],
   "source": [
    "f = np.array([1,20,4,3,5,6])\n",
    "fg = np.median(f)\n",
    "print(fg)"
   ]
  },
  {
   "cell_type": "code",
   "execution_count": null,
   "metadata": {},
   "outputs": [
    {
     "name": "stdout",
     "output_type": "stream",
     "text": [
      "1.707825127659933\n"
     ]
    }
   ],
   "source": [
    "f = np.array([1,2,4,3,5,6])\n",
    "fg = np.std(f) # standard deviation\n",
    "print(fg)"
   ]
  },
  {
   "cell_type": "code",
   "execution_count": 66,
   "metadata": {},
   "outputs": [
    {
     "name": "stdout",
     "output_type": "stream",
     "text": [
      "[3 7 9 8]\n"
     ]
    }
   ],
   "source": [
    "n = random.randint(10, size=4)\n",
    "print(n)"
   ]
  },
  {
   "cell_type": "code",
   "execution_count": 75,
   "metadata": {},
   "outputs": [
    {
     "name": "stdout",
     "output_type": "stream",
     "text": [
      "4\n"
     ]
    }
   ],
   "source": [
    "f = np.array([1,2,4,3,5,6])\n",
    "g = random.choice(f)\n",
    "print(g)"
   ]
  },
  {
   "cell_type": "code",
   "execution_count": 76,
   "metadata": {},
   "outputs": [
    {
     "name": "stdout",
     "output_type": "stream",
     "text": [
      "[0.         1.         2.         1.5849625  2.32192809 2.5849625 ]\n"
     ]
    }
   ],
   "source": [
    "f = np.array([1,2,4,3,5,6])\n",
    "print(np.log2(f))"
   ]
  },
  {
   "cell_type": "code",
   "execution_count": null,
   "metadata": {},
   "outputs": [
    {
     "name": "stdout",
     "output_type": "stream",
     "text": [
      "LCM  24\n",
      "HCF or GCD 12\n"
     ]
    }
   ],
   "source": [
    "n = 12\n",
    "m = 24\n",
    "print(\"LCM \",np.lcm(n,m))\n",
    "print(\"HCF or GCD\",np.gcd(n,m))"
   ]
  }
 ],
 "metadata": {
  "kernelspec": {
   "display_name": "Python 3",
   "language": "python",
   "name": "python3"
  },
  "language_info": {
   "codemirror_mode": {
    "name": "ipython",
    "version": 3
   },
   "file_extension": ".py",
   "mimetype": "text/x-python",
   "name": "python",
   "nbconvert_exporter": "python",
   "pygments_lexer": "ipython3",
   "version": "3.12.1"
  }
 },
 "nbformat": 4,
 "nbformat_minor": 2
}
